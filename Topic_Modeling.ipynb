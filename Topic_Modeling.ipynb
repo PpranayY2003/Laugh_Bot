{
 "cells": [
  {
   "metadata": {
    "ExecuteTime": {
     "end_time": "2025-07-20T20:53:16.416499Z",
     "start_time": "2025-07-20T20:53:16.397894Z"
    }
   },
   "cell_type": "code",
   "source": [
    "import pandas as pd\n",
    "from sklearn.feature_extraction.text import TfidfVectorizer\n",
    "from sklearn.cluster import KMeans\n",
    "from sklearn.preprocessing import normalize\n",
    "from collections import Counter\n",
    "\n",
    "df = pd.read_csv(\"cleaned_transcripts.csv\")\n",
    "documents = df[\"cleaned_text\"].dropna().tolist()\n"
   ],
   "id": "7385f4891cfecb84",
   "outputs": [],
   "execution_count": 31
  },
  {
   "metadata": {
    "ExecuteTime": {
     "end_time": "2025-07-20T20:53:16.781520Z",
     "start_time": "2025-07-20T20:53:16.761663Z"
    }
   },
   "cell_type": "code",
   "source": [
    "vectorizer = TfidfVectorizer(max_df=0.9, min_df=2, stop_words='english', max_features=5000)\n",
    "X = vectorizer.fit_transform(documents)\n",
    "X_norm = normalize(X)"
   ],
   "id": "ac27b711c3dfcc5e",
   "outputs": [],
   "execution_count": 32
  },
  {
   "metadata": {
    "ExecuteTime": {
     "end_time": "2025-07-20T20:53:31.270423Z",
     "start_time": "2025-07-20T20:53:29.715262Z"
    }
   },
   "cell_type": "code",
   "source": [
    "num_docs = len(documents)\n",
    "num_topics = min(10, num_docs)\n",
    "kmeans = KMeans(n_clusters=num_topics, random_state=42, n_init='auto')\n",
    "labels = kmeans.fit_predict(X_norm)\n"
   ],
   "id": "b77b9a2f41e28516",
   "outputs": [],
   "execution_count": 34
  },
  {
   "metadata": {
    "ExecuteTime": {
     "end_time": "2025-07-20T20:53:45.747695Z",
     "start_time": "2025-07-20T20:53:45.738620Z"
    }
   },
   "cell_type": "code",
   "source": [
    "feature_names = vectorizer.get_feature_names_out()\n",
    "topic_keywords = []\n",
    "\n",
    "print(f\"\\n🔹 Total topics found: {num_topics}\\n\")\n",
    "for i in range(num_topics):\n",
    "    center = kmeans.cluster_centers_[i]\n",
    "    top_indices = center.argsort()[-5:][::-1]\n",
    "    top_words = [feature_names[j] for j in top_indices]\n",
    "    topic_keywords.append(top_words)\n",
    "    print(f\"🔸 Topic {i}: {top_words}\")"
   ],
   "id": "93386fa4b6496dc4",
   "outputs": [
    {
     "name": "stdout",
     "output_type": "stream",
     "text": [
      "\n",
      "🔹 Total topics found: 5\n",
      "\n",
      "🔸 Topic 0: ['said', 'therapy', 'therapist', 'men', 'doctor']\n",
      "🔸 Topic 1: ['shit', 'beautiful', 'world', 'indian', 'india']\n",
      "🔸 Topic 2: ['jokes', 'bank', 'government', 'scared', 'issues']\n",
      "🔸 Topic 3: ['laughing', 'gonna', 'man', 'woman', 'shit']\n",
      "🔸 Topic 4: ['fuck', 'pretty', 'guy', 'seriously', 'tell']\n"
     ]
    }
   ],
   "execution_count": 35
  },
  {
   "metadata": {
    "ExecuteTime": {
     "end_time": "2025-07-20T20:53:55.365949Z",
     "start_time": "2025-07-20T20:53:55.345452Z"
    }
   },
   "cell_type": "code",
   "source": [
    "topic_counts = Counter(labels)\n",
    "top_topics = topic_counts.most_common(5)\n",
    "\n",
    "print(\"\\n🔹 Top 5 most common topics across documents:\\n\")\n",
    "for rank, (topic_num, count) in enumerate(top_topics, start=1):\n",
    "    print(f\"🔸 Rank {rank} — Topic {topic_num} ({count} docs): {topic_keywords[topic_num]}\")"
   ],
   "id": "b63a85e6a73385b",
   "outputs": [
    {
     "name": "stdout",
     "output_type": "stream",
     "text": [
      "\n",
      "🔹 Top 5 most common topics across documents:\n",
      "\n",
      "🔸 Rank 1 — Topic 2 (1 docs): ['jokes', 'bank', 'government', 'scared', 'issues']\n",
      "🔸 Rank 2 — Topic 0 (1 docs): ['said', 'therapy', 'therapist', 'men', 'doctor']\n",
      "🔸 Rank 3 — Topic 4 (1 docs): ['fuck', 'pretty', 'guy', 'seriously', 'tell']\n",
      "🔸 Rank 4 — Topic 1 (1 docs): ['shit', 'beautiful', 'world', 'indian', 'india']\n",
      "🔸 Rank 5 — Topic 3 (1 docs): ['laughing', 'gonna', 'man', 'woman', 'shit']\n"
     ]
    }
   ],
   "execution_count": 36
  },
  {
   "metadata": {},
   "cell_type": "code",
   "outputs": [],
   "execution_count": null,
   "source": "",
   "id": "5d9117462628933d"
  }
 ],
 "metadata": {
  "kernelspec": {
   "display_name": "Python 3",
   "language": "python",
   "name": "python3"
  },
  "language_info": {
   "codemirror_mode": {
    "name": "ipython",
    "version": 2
   },
   "file_extension": ".py",
   "mimetype": "text/x-python",
   "name": "python",
   "nbconvert_exporter": "python",
   "pygments_lexer": "ipython2",
   "version": "2.7.6"
  }
 },
 "nbformat": 4,
 "nbformat_minor": 5
}

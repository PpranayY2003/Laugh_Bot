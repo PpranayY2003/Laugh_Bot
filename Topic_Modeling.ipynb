{
 "cells": [
  {
   "metadata": {
    "ExecuteTime": {
     "end_time": "2025-07-19T19:37:37.408059Z",
     "start_time": "2025-07-19T19:37:37.388838Z"
    }
   },
   "cell_type": "code",
   "source": [
    "import pandas as pd\n",
    "\n",
    "# Load your cleaned data (assumes 'cleaned_text' column exists)\n",
    "df = pd.read_csv(\"cleaned_transcripts.csv\")\n",
    "documents = df['cleaned_text'].tolist()\n"
   ],
   "id": "60e0dd8b632391a0",
   "outputs": [],
   "execution_count": 2
  },
  {
   "metadata": {
    "ExecuteTime": {
     "end_time": "2025-07-19T19:39:29.749366Z",
     "start_time": "2025-07-19T19:37:44.938225Z"
    }
   },
   "cell_type": "code",
   "source": [
    "from sentence_transformers import SentenceTransformer\n",
    "\n",
    "model = SentenceTransformer('all-MiniLM-L6-v2')  # Small, fast & good for topics\n",
    "embeddings = model.encode(documents, show_progress_bar=True)\n"
   ],
   "id": "6acd0d261792ea33",
   "outputs": [
    {
     "name": "stderr",
     "output_type": "stream",
     "text": [
      "C:\\Users\\Pranay Malhotra\\AppData\\Local\\Programs\\Python\\Python312\\Lib\\site-packages\\tqdm\\auto.py:21: TqdmWarning: IProgress not found. Please update jupyter and ipywidgets. See https://ipywidgets.readthedocs.io/en/stable/user_install.html\n",
      "  from .autonotebook import tqdm as notebook_tqdm\n",
      "Batches: 100%|██████████| 1/1 [00:00<00:00,  1.53it/s]\n"
     ]
    }
   ],
   "execution_count": 3
  },
  {
   "metadata": {
    "ExecuteTime": {
     "end_time": "2025-07-19T19:45:44.893971Z",
     "start_time": "2025-07-19T19:45:42.119247Z"
    }
   },
   "cell_type": "code",
   "source": [
    "reducer = umap.UMAP(\n",
    "    n_neighbors=15,\n",
    "    n_components=2,  # <- fix here\n",
    "    min_dist=0.0,\n",
    "    metric='cosine'\n",
    ")\n",
    "\n",
    "reduced_embeddings = reducer.fit_transform(embeddings)\n"
   ],
   "id": "b8ce7c241bb76e14",
   "outputs": [
    {
     "name": "stderr",
     "output_type": "stream",
     "text": [
      "C:\\Users\\Pranay Malhotra\\AppData\\Local\\Programs\\Python\\Python312\\Lib\\site-packages\\umap\\umap_.py:2462: UserWarning: n_neighbors is larger than the dataset size; truncating to X.shape[0] - 1\n",
      "  warn(\n"
     ]
    }
   ],
   "execution_count": 9
  },
  {
   "metadata": {
    "ExecuteTime": {
     "end_time": "2025-07-19T19:46:31.944062Z",
     "start_time": "2025-07-19T19:46:31.934121Z"
    }
   },
   "cell_type": "code",
   "source": [
    "min_samples = min(10, len(reduced_embeddings) - 1)  # Safe choice\n",
    "clusterer = hdbscan.HDBSCAN(min_cluster_size=5, min_samples=min_samples, metric='euclidean')\n",
    "cluster_labels = clusterer.fit_predict(reduced_embeddings)\n",
    "\n",
    "df['topic'] = cluster_labels\n"
   ],
   "id": "574081c1f34011aa",
   "outputs": [
    {
     "name": "stderr",
     "output_type": "stream",
     "text": [
      "C:\\Users\\Pranay Malhotra\\AppData\\Local\\Programs\\Python\\Python312\\Lib\\site-packages\\sklearn\\utils\\deprecation.py:132: FutureWarning: 'force_all_finite' was renamed to 'ensure_all_finite' in 1.6 and will be removed in 1.8.\n",
      "  warnings.warn(\n",
      "C:\\Users\\Pranay Malhotra\\AppData\\Local\\Programs\\Python\\Python312\\Lib\\site-packages\\sklearn\\utils\\deprecation.py:132: FutureWarning: 'force_all_finite' was renamed to 'ensure_all_finite' in 1.6 and will be removed in 1.8.\n",
      "  warnings.warn(\n"
     ]
    }
   ],
   "execution_count": 10
  },
  {
   "metadata": {
    "ExecuteTime": {
     "end_time": "2025-07-19T19:46:40.650309Z",
     "start_time": "2025-07-19T19:46:40.639416Z"
    }
   },
   "cell_type": "code",
   "source": [
    "min_samples = min(10, len(reduced_embeddings) - 1)  # Safe choice\n",
    "clusterer = hdbscan.HDBSCAN(min_cluster_size=5, min_samples=min_samples, metric='euclidean')\n",
    "cluster_labels = clusterer.fit_predict(reduced_embeddings)\n",
    "\n",
    "df['topic'] = cluster_labels\n"
   ],
   "id": "2c690496c5c75544",
   "outputs": [
    {
     "name": "stderr",
     "output_type": "stream",
     "text": [
      "C:\\Users\\Pranay Malhotra\\AppData\\Local\\Programs\\Python\\Python312\\Lib\\site-packages\\sklearn\\utils\\deprecation.py:132: FutureWarning: 'force_all_finite' was renamed to 'ensure_all_finite' in 1.6 and will be removed in 1.8.\n",
      "  warnings.warn(\n",
      "C:\\Users\\Pranay Malhotra\\AppData\\Local\\Programs\\Python\\Python312\\Lib\\site-packages\\sklearn\\utils\\deprecation.py:132: FutureWarning: 'force_all_finite' was renamed to 'ensure_all_finite' in 1.6 and will be removed in 1.8.\n",
      "  warnings.warn(\n"
     ]
    }
   ],
   "execution_count": 11
  },
  {
   "metadata": {
    "ExecuteTime": {
     "end_time": "2025-07-19T19:46:48.202885Z",
     "start_time": "2025-07-19T19:46:48.190952Z"
    }
   },
   "cell_type": "code",
   "source": [
    "def get_top_n_words(docs, n=10):\n",
    "    vec = CountVectorizer(stop_words='english')\n",
    "    X = vec.fit_transform(docs)\n",
    "    word_freq = np.asarray(X.sum(axis=0)).flatten()\n",
    "    words = vec.get_feature_names_out()\n",
    "    top_indices = word_freq.argsort()[::-1][:n]\n",
    "    return [words[i] for i in top_indices]\n",
    "\n",
    "topic_keywords = {}\n",
    "for topic_num in sorted(df['topic'].unique()):\n",
    "    if topic_num == -1:  # -1 is usually noise\n",
    "        continue\n",
    "    topic_docs = df[df['topic'] == topic_num]['cleaned_text'].tolist()\n",
    "    topic_keywords[topic_num] = get_top_n_words(topic_docs)\n",
    "\n",
    "# Display topic-wise keywords\n",
    "for topic, keywords in topic_keywords.items():\n",
    "    print(f\"Topic {topic}: {', '.join(keywords)}\")\n"
   ],
   "id": "4d4bd14399a45bb4",
   "outputs": [],
   "execution_count": 12
  },
  {
   "metadata": {
    "ExecuteTime": {
     "end_time": "2025-07-19T19:47:25.228418Z",
     "start_time": "2025-07-19T19:47:24.895552Z"
    }
   },
   "cell_type": "code",
   "source": [
    " # Reduce to 2D for visualization\n",
    "import matplotlib.pyplot as plt\n",
    "import seaborn as sns\n",
    "umap_2d = umap.UMAP(n_neighbors=15, n_components=2, min_dist=0.0, metric='cosine')\n",
    "embedding_2d = umap_2d.fit_transform(embeddings)\n",
    "\n",
    "plt.figure(figsize=(10, 6))\n",
    "sns.scatterplot(\n",
    "    x=embedding_2d[:, 0], y=embedding_2d[:, 1],\n",
    "    hue=cluster_labels,\n",
    "    palette=\"tab10\",\n",
    "    legend='full'\n",
    ")\n",
    "plt.title(\"Topic Clusters (BERT + UMAP + HDBSCAN)\")\n",
    "plt.show()\n"
   ],
   "id": "4ca5c7d739df3db8",
   "outputs": [
    {
     "name": "stderr",
     "output_type": "stream",
     "text": [
      "C:\\Users\\Pranay Malhotra\\AppData\\Local\\Programs\\Python\\Python312\\Lib\\site-packages\\umap\\umap_.py:2462: UserWarning: n_neighbors is larger than the dataset size; truncating to X.shape[0] - 1\n",
      "  warn(\n"
     ]
    },
    {
     "data": {
      "text/plain": [
       "<Figure size 1000x600 with 1 Axes>"
      ],
      "image/png": "[encoded data removed]"
     },
     "metadata": {},
     "output_type": "display_data"
    }
   ],
   "execution_count": 15
  },
  {
   "metadata": {},
   "cell_type": "code",
   "outputs": [],
   "execution_count": null,
   "source": "",
   "id": "9460ce08ef13a4ba"
  }
 ],
 "metadata": {
  "kernelspec": {
   "display_name": "Python 3",
   "language": "python",
   "name": "python3"
  },
  "language_info": {
   "codemirror_mode": {
    "name": "ipython",
    "version": 2
   },
   "file_extension": ".py",
   "mimetype": "text/x-python",
   "name": "python",
   "nbconvert_exporter": "python",
   "pygments_lexer": "ipython2",
   "version": "2.7.6"
  }
 },
 "nbformat": 4,
 "nbformat_minor": 5
}

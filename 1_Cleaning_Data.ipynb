{
 "cells": [
  {
   "metadata": {
    "ExecuteTime": {
     "end_time": "2025-07-15T19:35:20.958139Z",
     "start_time": "2025-07-15T19:35:06.942794Z"
    }
   },
   "cell_type": "code",
   "source": [
    "import os\n",
    "import pandas as pd\n",
    "import string\n",
    "import nltk\n",
    "from nltk.corpus import stopwords\n",
    "from nltk.tokenize import word_tokenize\n",
    "\n",
    "# Download required NLTK data (only needs to be run once)\n",
    "nltk.download('punkt')\n",
    "nltk.download('stopwords')\n"
   ],
   "id": "ff34956a0a5b68d2",
   "outputs": [
    {
     "name": "stderr",
     "output_type": "stream",
     "text": [
      "[nltk_data] Downloading package punkt to C:\\Users\\Pranay\n",
      "[nltk_data]     Malhotra/nltk_data...\n",
      "[nltk_data]   Package punkt is already up-to-date!\n",
      "[nltk_data] Downloading package stopwords to C:\\Users\\Pranay\n",
      "[nltk_data]     Malhotra/nltk_data...\n",
      "[nltk_data]   Package stopwords is already up-to-date!\n"
     ]
    },
    {
     "data": {
      "text/plain": [
       "True"
      ]
     },
     "execution_count": 1,
     "metadata": {},
     "output_type": "execute_result"
    }
   ],
   "execution_count": 1
  },
  {
   "metadata": {
    "ExecuteTime": {
     "end_time": "2025-07-15T19:35:22.094389Z",
     "start_time": "2025-07-15T19:35:22.084710Z"
    }
   },
   "cell_type": "code",
   "source": [
    "# Folder where transcripts are stored\n",
    "data_folder = \"data\"\n"
   ],
   "id": "3d42b41460d23399",
   "outputs": [],
   "execution_count": 2
  },
  {
   "metadata": {
    "ExecuteTime": {
     "end_time": "2025-07-15T19:35:22.149283Z",
     "start_time": "2025-07-15T19:35:22.121255Z"
    }
   },
   "cell_type": "code",
   "source": [
    "# line loads a list of common English stop words from NLTK and stores them in a Python set called stop_words.\n",
    "stop_words = set(stopwords.words('english'))\n"
   ],
   "id": "5b24f2e4d27279bf",
   "outputs": [],
   "execution_count": 3
  },
  {
   "metadata": {
    "ExecuteTime": {
     "end_time": "2025-07-15T19:36:22.620405Z",
     "start_time": "2025-07-15T19:36:22.609411Z"
    }
   },
   "cell_type": "code",
   "source": [
    "def clean_text(text):\n",
    "    # Lowercase\n",
    "    text = text.lower()\n",
    "\n",
    "    # Remove punctuation\n",
    "    text = text.translate(str.maketrans('', '', string.punctuation))\n",
    "\n",
    "    # Simple tokenization (split by whitespace)\n",
    "    tokens = text.split()\n",
    "\n",
    "    # Remove stopwords and non-alphabetic tokens\n",
    "    cleaned_tokens = [word for word in tokens if word.isalpha() and word not in stop_words]\n",
    "\n",
    "    return \" \".join(cleaned_tokens), cleaned_tokens\n",
    "\n",
    "\n"
   ],
   "id": "6ff03b3904888e19",
   "outputs": [],
   "execution_count": 7
  },
  {
   "metadata": {
    "ExecuteTime": {
     "end_time": "2025-07-15T19:36:25.078195Z",
     "start_time": "2025-07-15T19:36:25.006276Z"
    }
   },
   "cell_type": "code",
   "source": [
    "import nltk\n",
    "\n",
    "# Clean download\n",
    "nltk.download('punkt', download_dir='C:/Users/Pranay Malhotra/nltk_data')\n"
   ],
   "id": "59dc3e115a00cdc1",
   "outputs": [
    {
     "name": "stderr",
     "output_type": "stream",
     "text": [
      "[nltk_data] Downloading package punkt to C:/Users/Pranay\n",
      "[nltk_data]     Malhotra/nltk_data...\n",
      "[nltk_data]   Package punkt is already up-to-date!\n"
     ]
    },
    {
     "data": {
      "text/plain": [
       "True"
      ]
     },
     "execution_count": 8,
     "metadata": {},
     "output_type": "execute_result"
    }
   ],
   "execution_count": 8
  },
  {
   "metadata": {
    "ExecuteTime": {
     "end_time": "2025-07-15T19:36:26.536038Z",
     "start_time": "2025-07-15T19:36:26.450008Z"
    }
   },
   "cell_type": "code",
   "source": [
    "# Initialize list to store cleaned data\n",
    "all_data = []\n",
    "\n",
    "# Loop over all .txt files in data folder\n",
    "for file_name in os.listdir(data_folder):\n",
    "    if file_name.endswith(\".txt\"):\n",
    "        comedian_name = file_name.replace(\".txt\", \"\")\n",
    "        with open(os.path.join(data_folder, file_name), \"r\", encoding=\"utf-8\") as f:\n",
    "            content = f.read()\n",
    "            cleaned_text, tokens = clean_text(content)\n",
    "            all_data.append({\n",
    "                \"comedian\": comedian_name,\n",
    "                \"original_text\": content,\n",
    "                \"cleaned_text\": cleaned_text,\n",
    "                \"tokens\": tokens\n",
    "            })\n"
   ],
   "id": "bdcf817dfc7be69f",
   "outputs": [],
   "execution_count": 9
  },
  {
   "metadata": {
    "ExecuteTime": {
     "end_time": "2025-07-15T19:37:25.634804Z",
     "start_time": "2025-07-15T19:37:25.614608Z"
    }
   },
   "cell_type": "code",
   "source": [
    "# Convert list of dictionaries to pandas DataFrame\n",
    "df = pd.DataFrame(all_data)\n"
   ],
   "id": "d5ccc52b8048451b",
   "outputs": [],
   "execution_count": 10
  },
  {
   "metadata": {
    "ExecuteTime": {
     "end_time": "2025-07-15T19:37:30.670783Z",
     "start_time": "2025-07-15T19:37:30.646253Z"
    }
   },
   "cell_type": "code",
   "source": [
    "# Preview the cleaned data\n",
    "df.head()\n"
   ],
   "id": "3354999e60b231f8",
   "outputs": [
    {
     "data": {
      "text/plain": [
       "  comedian                                      original_text  \\\n",
       "0    kenny  You guys are the positive audience. Okay? Ther...   \n",
       "1    urooj  Are you guys aware of the cameras? Are you fee...   \n",
       "2    varun  Are you ready?\\n\\nAre you excited?\\n\\nSo put y...   \n",
       "3  virdas1  I lost 80% of my mind. It’s very freeing. You ...   \n",
       "4  virdas2  [Vir Das] What you’re about to watch wasn’t su...   \n",
       "\n",
       "                                        cleaned_text  \\\n",
       "0  guys positive audience okay positive audience ...   \n",
       "1  guys aware cameras feeling conscious cameras c...   \n",
       "2  ready excited put hands together welcome stage...   \n",
       "3  lost mind freeing see look faces right way oh ...   \n",
       "4  vir das watch supposed happen completely unscr...   \n",
       "\n",
       "                                              tokens  \n",
       "0  [guys, positive, audience, okay, positive, aud...  \n",
       "1  [guys, aware, cameras, feeling, conscious, cam...  \n",
       "2  [ready, excited, put, hands, together, welcome...  \n",
       "3  [lost, mind, freeing, see, look, faces, right,...  \n",
       "4  [vir, das, watch, supposed, happen, completely...  "
      ],
      "text/html": [
       "<div>\n",
       "<style scoped>\n",
       "    .dataframe tbody tr th:only-of-type {\n",
       "        vertical-align: middle;\n",
       "    }\n",
       "\n",
       "    .dataframe tbody tr th {\n",
       "        vertical-align: top;\n",
       "    }\n",
       "\n",
       "    .dataframe thead th {\n",
       "        text-align: right;\n",
       "    }\n",
       "</style>\n",
       "<table border=\"1\" class=\"dataframe\">\n",
       "  <thead>\n",
       "    <tr style=\"text-align: right;\">\n",
       "      <th></th>\n",
       "      <th>comedian</th>\n",
       "      <th>original_text</th>\n",
       "      <th>cleaned_text</th>\n",
       "      <th>tokens</th>\n",
       "    </tr>\n",
       "  </thead>\n",
       "  <tbody>\n",
       "    <tr>\n",
       "      <th>0</th>\n",
       "      <td>kenny</td>\n",
       "      <td>You guys are the positive audience. Okay? Ther...</td>\n",
       "      <td>guys positive audience okay positive audience ...</td>\n",
       "      <td>[guys, positive, audience, okay, positive, aud...</td>\n",
       "    </tr>\n",
       "    <tr>\n",
       "      <th>1</th>\n",
       "      <td>urooj</td>\n",
       "      <td>Are you guys aware of the cameras? Are you fee...</td>\n",
       "      <td>guys aware cameras feeling conscious cameras c...</td>\n",
       "      <td>[guys, aware, cameras, feeling, conscious, cam...</td>\n",
       "    </tr>\n",
       "    <tr>\n",
       "      <th>2</th>\n",
       "      <td>varun</td>\n",
       "      <td>Are you ready?\\n\\nAre you excited?\\n\\nSo put y...</td>\n",
       "      <td>ready excited put hands together welcome stage...</td>\n",
       "      <td>[ready, excited, put, hands, together, welcome...</td>\n",
       "    </tr>\n",
       "    <tr>\n",
       "      <th>3</th>\n",
       "      <td>virdas1</td>\n",
       "      <td>I lost 80% of my mind. It’s very freeing. You ...</td>\n",
       "      <td>lost mind freeing see look faces right way oh ...</td>\n",
       "      <td>[lost, mind, freeing, see, look, faces, right,...</td>\n",
       "    </tr>\n",
       "    <tr>\n",
       "      <th>4</th>\n",
       "      <td>virdas2</td>\n",
       "      <td>[Vir Das] What you’re about to watch wasn’t su...</td>\n",
       "      <td>vir das watch supposed happen completely unscr...</td>\n",
       "      <td>[vir, das, watch, supposed, happen, completely...</td>\n",
       "    </tr>\n",
       "  </tbody>\n",
       "</table>\n",
       "</div>"
      ]
     },
     "execution_count": 11,
     "metadata": {},
     "output_type": "execute_result"
    }
   ],
   "execution_count": 11
  },
  {
   "metadata": {
    "ExecuteTime": {
     "end_time": "2025-07-15T19:44:21.838847Z",
     "start_time": "2025-07-15T19:44:21.811933Z"
    }
   },
   "cell_type": "code",
   "source": "df.to_csv(\"cleaned_transcripts.csv\", index=False)\n",
   "id": "b6092a312921aa84",
   "outputs": [],
   "execution_count": 12
  },
  {
   "metadata": {},
   "cell_type": "code",
   "outputs": [],
   "execution_count": null,
   "source": "",
   "id": "f7e303e4657cfa16"
  }
 ],
 "metadata": {
  "kernelspec": {
   "display_name": "Python 3",
   "language": "python",
   "name": "python3"
  },
  "language_info": {
   "codemirror_mode": {
    "name": "ipython",
    "version": 2
   },
   "file_extension": ".py",
   "mimetype": "text/x-python",
   "name": "python",
   "nbconvert_exporter": "python",
   "pygments_lexer": "ipython2",
   "version": "2.7.6"
  }
 },
 "nbformat": 4,
 "nbformat_minor": 5
}

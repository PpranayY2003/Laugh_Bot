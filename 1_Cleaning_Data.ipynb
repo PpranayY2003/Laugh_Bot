{
 "cells": [
  {
   "metadata": {
    "ExecuteTime": {
     "end_time": "2025-07-20T20:17:13.068757Z",
     "start_time": "2025-07-20T20:17:13.060622Z"
    }
   },
   "cell_type": "code",
   "source": [
    "import os\n",
    "import pandas as pd\n",
    "import string\n",
    "import nltk\n",
    "from nltk.corpus import stopwords\n",
    "from nltk.tokenize import word_tokenize\n",
    "\n",
    "\n",
    "nltk.download('punkt')\n",
    "nltk.download('stopwords')\n"
   ],
   "id": "ff34956a0a5b68d2",
   "outputs": [
    {
     "name": "stderr",
     "output_type": "stream",
     "text": [
      "[nltk_data] Downloading package punkt to C:\\Users\\Pranay\n",
      "[nltk_data]     Malhotra/nltk_data...\n",
      "[nltk_data]   Package punkt is already up-to-date!\n",
      "[nltk_data] Downloading package stopwords to C:\\Users\\Pranay\n",
      "[nltk_data]     Malhotra/nltk_data...\n",
      "[nltk_data]   Package stopwords is already up-to-date!\n"
     ]
    },
    {
     "data": {
      "text/plain": [
       "True"
      ]
     },
     "execution_count": 10,
     "metadata": {},
     "output_type": "execute_result"
    }
   ],
   "execution_count": 10
  },
  {
   "metadata": {
    "ExecuteTime": {
     "end_time": "2025-07-20T20:17:18.195991Z",
     "start_time": "2025-07-20T20:17:18.190804Z"
    }
   },
   "cell_type": "code",
   "source": [
    "\n",
    "data_folder = \"data\"\n"
   ],
   "id": "3d42b41460d23399",
   "outputs": [],
   "execution_count": 11
  },
  {
   "metadata": {
    "ExecuteTime": {
     "end_time": "2025-07-20T20:17:22.059676Z",
     "start_time": "2025-07-20T20:17:22.053331Z"
    }
   },
   "cell_type": "code",
   "source": [
    "\n",
    "stop_words = set(stopwords.words('english'))\n"
   ],
   "id": "5b24f2e4d27279bf",
   "outputs": [],
   "execution_count": 12
  },
  {
   "metadata": {
    "ExecuteTime": {
     "end_time": "2025-07-20T20:12:58.614947Z",
     "start_time": "2025-07-20T20:12:58.609385Z"
    }
   },
   "cell_type": "code",
   "source": [
    "def clean_text(text):\n",
    "    # Lowercase\n",
    "    text = text.lower()\n",
    "\n",
    "    # Remove punctuation\n",
    "    text = text.translate(str.maketrans('', '', string.punctuation))\n",
    "\n",
    "    # Simple tokenization (split by whitespace)\n",
    "    tokens = text.split()\n",
    "\n",
    "    # Remove stopwords and non-alphabetic tokens\n",
    "    cleaned_tokens = [word for word in tokens if word.isalpha() and word not in stop_words]\n",
    "\n",
    "    return \" \".join(cleaned_tokens), cleaned_tokens\n",
    "\n",
    "\n"
   ],
   "id": "6ff03b3904888e19",
   "outputs": [],
   "execution_count": 4
  },
  {
   "metadata": {
    "ExecuteTime": {
     "end_time": "2025-07-20T20:17:32.445765Z",
     "start_time": "2025-07-20T20:17:32.389090Z"
    }
   },
   "cell_type": "code",
   "source": [
    "import nltk\n",
    "\n",
    "\n",
    "nltk.download('punkt', download_dir='C:/Users/Pranay Malhotra/nltk_data')\n"
   ],
   "id": "59dc3e115a00cdc1",
   "outputs": [
    {
     "name": "stderr",
     "output_type": "stream",
     "text": [
      "[nltk_data] Downloading package punkt to C:/Users/Pranay\n",
      "[nltk_data]     Malhotra/nltk_data...\n",
      "[nltk_data]   Package punkt is already up-to-date!\n"
     ]
    },
    {
     "data": {
      "text/plain": [
       "True"
      ]
     },
     "execution_count": 13,
     "metadata": {},
     "output_type": "execute_result"
    }
   ],
   "execution_count": 13
  },
  {
   "metadata": {
    "ExecuteTime": {
     "end_time": "2025-07-20T20:17:45.787197Z",
     "start_time": "2025-07-20T20:17:45.750871Z"
    }
   },
   "cell_type": "code",
   "source": [
    "\n",
    "all_data = []\n",
    "\n",
    "# Loop over all .txt files in data folder\n",
    "for file_name in os.listdir(data_folder):\n",
    "    if file_name.endswith(\".txt\"):\n",
    "        comedian_name = file_name.replace(\".txt\", \"\")\n",
    "        with open(os.path.join(data_folder, file_name), \"r\", encoding=\"utf-8\") as f:\n",
    "            content = f.read()\n",
    "            cleaned_text, tokens = clean_text(content)\n",
    "            all_data.append({\n",
    "                \"comedian\": comedian_name,\n",
    "                \"original_text\": content,\n",
    "                \"cleaned_text\": cleaned_text,\n",
    "                \"tokens\": tokens\n",
    "            })\n"
   ],
   "id": "bdcf817dfc7be69f",
   "outputs": [],
   "execution_count": 14
  },
  {
   "metadata": {
    "ExecuteTime": {
     "end_time": "2025-07-20T20:17:56.190946Z",
     "start_time": "2025-07-20T20:17:56.181930Z"
    }
   },
   "cell_type": "code",
   "source": "df = pd.DataFrame(all_data)\n",
   "id": "d5ccc52b8048451b",
   "outputs": [],
   "execution_count": 16
  },
  {
   "metadata": {
    "ExecuteTime": {
     "end_time": "2025-07-20T20:17:56.803944Z",
     "start_time": "2025-07-20T20:17:56.779370Z"
    }
   },
   "cell_type": "code",
   "source": "df.head()\n",
   "id": "3354999e60b231f8",
   "outputs": [
    {
     "data": {
      "text/plain": [
       "  comedian                                      original_text  \\\n",
       "0    kenny  You guys are the positive audience. Okay? Ther...   \n",
       "1    urooj  Are you guys aware of the cameras? Are you fee...   \n",
       "2    varun  Are you ready?\\n\\nAre you excited?\\n\\nSo put y...   \n",
       "3  virdas1  I lost 80% of my mind. It’s very freeing. You ...   \n",
       "4  virdas2  [Vir Das] What you’re about to watch wasn’t su...   \n",
       "\n",
       "                                        cleaned_text  \\\n",
       "0  guys positive audience okay positive audience ...   \n",
       "1  guys aware cameras feeling conscious cameras c...   \n",
       "2  ready excited put hands together welcome stage...   \n",
       "3  lost mind freeing see look faces right way oh ...   \n",
       "4  vir das watch supposed happen completely unscr...   \n",
       "\n",
       "                                              tokens  \n",
       "0  [guys, positive, audience, okay, positive, aud...  \n",
       "1  [guys, aware, cameras, feeling, conscious, cam...  \n",
       "2  [ready, excited, put, hands, together, welcome...  \n",
       "3  [lost, mind, freeing, see, look, faces, right,...  \n",
       "4  [vir, das, watch, supposed, happen, completely...  "
      ],
      "text/html": [
       "<div>\n",
       "<style scoped>\n",
       "    .dataframe tbody tr th:only-of-type {\n",
       "        vertical-align: middle;\n",
       "    }\n",
       "\n",
       "    .dataframe tbody tr th {\n",
       "        vertical-align: top;\n",
       "    }\n",
       "\n",
       "    .dataframe thead th {\n",
       "        text-align: right;\n",
       "    }\n",
       "</style>\n",
       "<table border=\"1\" class=\"dataframe\">\n",
       "  <thead>\n",
       "    <tr style=\"text-align: right;\">\n",
       "      <th></th>\n",
       "      <th>comedian</th>\n",
       "      <th>original_text</th>\n",
       "      <th>cleaned_text</th>\n",
       "      <th>tokens</th>\n",
       "    </tr>\n",
       "  </thead>\n",
       "  <tbody>\n",
       "    <tr>\n",
       "      <th>0</th>\n",
       "      <td>kenny</td>\n",
       "      <td>You guys are the positive audience. Okay? Ther...</td>\n",
       "      <td>guys positive audience okay positive audience ...</td>\n",
       "      <td>[guys, positive, audience, okay, positive, aud...</td>\n",
       "    </tr>\n",
       "    <tr>\n",
       "      <th>1</th>\n",
       "      <td>urooj</td>\n",
       "      <td>Are you guys aware of the cameras? Are you fee...</td>\n",
       "      <td>guys aware cameras feeling conscious cameras c...</td>\n",
       "      <td>[guys, aware, cameras, feeling, conscious, cam...</td>\n",
       "    </tr>\n",
       "    <tr>\n",
       "      <th>2</th>\n",
       "      <td>varun</td>\n",
       "      <td>Are you ready?\\n\\nAre you excited?\\n\\nSo put y...</td>\n",
       "      <td>ready excited put hands together welcome stage...</td>\n",
       "      <td>[ready, excited, put, hands, together, welcome...</td>\n",
       "    </tr>\n",
       "    <tr>\n",
       "      <th>3</th>\n",
       "      <td>virdas1</td>\n",
       "      <td>I lost 80% of my mind. It’s very freeing. You ...</td>\n",
       "      <td>lost mind freeing see look faces right way oh ...</td>\n",
       "      <td>[lost, mind, freeing, see, look, faces, right,...</td>\n",
       "    </tr>\n",
       "    <tr>\n",
       "      <th>4</th>\n",
       "      <td>virdas2</td>\n",
       "      <td>[Vir Das] What you’re about to watch wasn’t su...</td>\n",
       "      <td>vir das watch supposed happen completely unscr...</td>\n",
       "      <td>[vir, das, watch, supposed, happen, completely...</td>\n",
       "    </tr>\n",
       "  </tbody>\n",
       "</table>\n",
       "</div>"
      ]
     },
     "execution_count": 17,
     "metadata": {},
     "output_type": "execute_result"
    }
   ],
   "execution_count": 17
  },
  {
   "metadata": {
    "ExecuteTime": {
     "end_time": "2025-07-20T20:17:59.199372Z",
     "start_time": "2025-07-20T20:17:59.177209Z"
    }
   },
   "cell_type": "code",
   "source": "df.to_csv(\"cleaned_transcripts.csv\", index=False)\n",
   "id": "b6092a312921aa84",
   "outputs": [],
   "execution_count": 18
  },
  {
   "metadata": {},
   "cell_type": "code",
   "outputs": [],
   "execution_count": null,
   "source": "",
   "id": "d39ef5e8cc729456"
  }
 ],
 "metadata": {
  "kernelspec": {
   "display_name": "Python 3",
   "language": "python",
   "name": "python3"
  },
  "language_info": {
   "codemirror_mode": {
    "name": "ipython",
    "version": 2
   },
   "file_extension": ".py",
   "mimetype": "text/x-python",
   "name": "python",
   "nbconvert_exporter": "python",
   "pygments_lexer": "ipython2",
   "version": "2.7.6"
  }
 },
 "nbformat": 4,
 "nbformat_minor": 5
}
